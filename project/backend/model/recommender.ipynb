{
 "cells": [
  {
   "cell_type": "markdown",
   "id": "a11a8ffb-c97d-44d3-bcc0-15614e685d51",
   "metadata": {},
   "source": [
    "# Real-Estate Property Recommendation Tool"
   ]
  },
  {
   "cell_type": "code",
   "execution_count": 2,
   "id": "7041eedb-0905-4bbb-bb2d-840c13fb2a88",
   "metadata": {},
   "outputs": [],
   "source": [
    "import pandas as pd\n",
    "import numpy as np\n",
    "import glob\n",
    "import seaborn as sns\n",
    "import matplotlib.pyplot as plt\n",
    "import numpy as np"
   ]
  },
  {
   "cell_type": "code",
   "execution_count": 3,
   "id": "71105219-9550-4aea-98cb-f1226a5e1740",
   "metadata": {},
   "outputs": [
    {
     "data": {
      "text/html": [
       "<div>\n",
       "<style scoped>\n",
       "    .dataframe tbody tr th:only-of-type {\n",
       "        vertical-align: middle;\n",
       "    }\n",
       "\n",
       "    .dataframe tbody tr th {\n",
       "        vertical-align: top;\n",
       "    }\n",
       "\n",
       "    .dataframe thead th {\n",
       "        text-align: right;\n",
       "    }\n",
       "</style>\n",
       "<table border=\"1\" class=\"dataframe\">\n",
       "  <thead>\n",
       "    <tr style=\"text-align: right;\">\n",
       "      <th></th>\n",
       "      <th>Brand New Premium 3 Bedroom in Lekki Phase 1</th>\n",
       "      <th>₦ 150,000 per day</th>\n",
       "      <th>Lekki, Lekki Phase 1</th>\n",
       "      <th>500</th>\n",
       "      <th>3</th>\n",
       "      <th>Unfurnished</th>\n",
       "      <th>3.1</th>\n",
       "      <th>Brand New Premium 3 bedroom in Lekki phase 1\\nAvailable from: today \\nFeatures:\\nPS5\\nSwimming pool\\n24/7...</th>\n",
       "      <th>38768242</th>\n",
       "      <th>active</th>\n",
       "    </tr>\n",
       "  </thead>\n",
       "  <tbody>\n",
       "    <tr>\n",
       "      <th>0</th>\n",
       "      <td>New Two Bedroom in Jahi Abuja</td>\n",
       "      <td>₦ 130,000 per day</td>\n",
       "      <td>Abuja (FCT), Jahi</td>\n",
       "      <td>500</td>\n",
       "      <td>2</td>\n",
       "      <td>Unfurnished</td>\n",
       "      <td>2</td>\n",
       "      <td>Refundable Caution Fee applies</td>\n",
       "      <td>41023971</td>\n",
       "      <td>active</td>\n",
       "    </tr>\n",
       "    <tr>\n",
       "      <th>1</th>\n",
       "      <td>3 Bedroom Terrace in Naf Valley Estate, Asokor...</td>\n",
       "      <td>₦ 115,000,000</td>\n",
       "      <td>Abuja (FCT), Asokoro</td>\n",
       "      <td>500</td>\n",
       "      <td>2</td>\n",
       "      <td>Unfurnished</td>\n",
       "      <td>2</td>\n",
       "      <td>3 bedroom Terrace duplex for sale at NAF Valle...</td>\n",
       "      <td>28913134</td>\n",
       "      <td>active</td>\n",
       "    </tr>\n",
       "  </tbody>\n",
       "</table>\n",
       "</div>"
      ],
      "text/plain": [
       "        Brand New Premium 3 Bedroom in Lekki Phase 1  ₦ 150,000 per day  \\\n",
       "0                      New Two Bedroom in Jahi Abuja  ₦ 130,000 per day   \n",
       "1  3 Bedroom Terrace in Naf Valley Estate, Asokor...      ₦ 115,000,000   \n",
       "\n",
       "   Lekki, Lekki Phase 1  500  3  Unfurnished 3.1  \\\n",
       "0     Abuja (FCT), Jahi  500  2  Unfurnished   2   \n",
       "1  Abuja (FCT), Asokoro  500  2  Unfurnished   2   \n",
       "\n",
       "  Brand New Premium 3 bedroom in Lekki phase 1\\nAvailable from: today \\nFeatures:\\nPS5\\nSwimming pool\\n24/7...  \\\n",
       "0                     Refundable Caution Fee applies                                                             \n",
       "1  3 bedroom Terrace duplex for sale at NAF Valle...                                                             \n",
       "\n",
       "   38768242  active  \n",
       "0  41023971  active  \n",
       "1  28913134  active  "
      ]
     },
     "execution_count": 3,
     "metadata": {},
     "output_type": "execute_result"
    }
   ],
   "source": [
    "path = \"../../../data/estates/*.csv\" \n",
    "\n",
    "csv_files = glob.glob(path)\n",
    "\n",
    "# Read the first file with header\n",
    "df_list = []\n",
    "df_first = pd.read_csv(csv_files[0])  # Read with header\n",
    "df_list.append(df_first)\n",
    "\n",
    "# Read the remaining files without headers, using the first file's columns\n",
    "for file in csv_files[1:]:\n",
    "    df = pd.read_csv(file, header=None, names=df_first.columns)\n",
    "    df_list.append(df)\n",
    "\n",
    "# Concatenate all DataFrames\n",
    "final_df = pd.concat(df_list, ignore_index=True)\n",
    "\n",
    "# Display result\n",
    "final_df.head(2)"
   ]
  },
  {
   "cell_type": "code",
   "execution_count": 4,
   "id": "6836c473-829d-4184-841b-cfdda9d44ca5",
   "metadata": {},
   "outputs": [
    {
     "data": {
      "text/plain": [
       "(23549, 10)"
      ]
     },
     "execution_count": 4,
     "metadata": {},
     "output_type": "execute_result"
    }
   ],
   "source": [
    "final_df.columns = ['title', 'price', 'location', 'sqm', 'bedrooms', 'furnishing', 'bathrooms', 'description', 'id', 'status']\n",
    "final_df.shape"
   ]
  },
  {
   "cell_type": "code",
   "execution_count": 6,
   "id": "9fc18747-f6ba-4c02-ae7f-961790dbfe9a",
   "metadata": {},
   "outputs": [],
   "source": [
    "final_df['missing_description'] = np.where(final_df['description'].isna(),1,0)\n",
    "final_df['missing_title'] = np.where(final_df['title'].isna(),1,0)\n",
    "final_df['missing_location'] = np.where(final_df['location'].isna(),1,0)"
   ]
  },
  {
   "cell_type": "code",
   "execution_count": 10,
   "id": "07170455-d2ac-4312-b8fe-67af4fdae38d",
   "metadata": {},
   "outputs": [],
   "source": [
    "import re\n",
    "\n",
    "def extract_amount(value):\n",
    " \n",
    "    value = re.sub(r\"[₦,]\", \"\", value)\n",
    "    \n",
    "    amount = re.search(r\"\\d+\", value)  \n",
    "    \n",
    "    return int(amount.group()) if amount else None\n",
    "\n",
    "converted_salaries = [extract_amount(s) for s in final_df['price']]\n",
    "final_df['current_prices'] = converted_salaries"
   ]
  },
  {
   "cell_type": "code",
   "execution_count": 12,
   "id": "2b54b0b5-ea04-4ac2-a7b9-d6afe8a00647",
   "metadata": {},
   "outputs": [],
   "source": [
    "# Function to clean location\n",
    "def clean_location(value):\n",
    "    value = str(value)\n",
    "    value = value.replace(\"...\", \"\").strip()\n",
    "    match = re.match(r\"(.+?)\\s*\\((.*?)\\),?\\s*(.+)\", value)\n",
    "    if match:\n",
    "        return f\"{match.group(3)}, {match.group(1)}\"\n",
    "    return value\n",
    "\n",
    "# Function to clean furnishing\n",
    "def clean_furnishing(value):\n",
    "    valid_furnishings = {\"Furnished\", \"Unfurnished\", \"Semi-Furnished\"}\n",
    "    return value if value in valid_furnishings else \"Unknown\"  # Replace invalid values\n",
    "\n",
    "# Apply cleaning functions\n",
    "final_df[\"location\"] = final_df[\"location\"].apply(clean_location)\n",
    "final_df[\"title\"] = final_df[\"title\"].apply(clean_location)\n",
    "final_df[\"description\"] = final_df[\"description\"].apply(clean_location)"
   ]
  },
  {
   "cell_type": "code",
   "execution_count": 14,
   "id": "5d381806-3560-459d-8359-db0b17cd6088",
   "metadata": {},
   "outputs": [],
   "source": [
    "#Reomve messy data like text in string columns\n",
    "final_df[\"sqm\"] = pd.to_numeric(final_df[\"sqm\"], errors=\"coerce\")\n",
    "final_df[\"current_prices\"] = pd.to_numeric(final_df[\"current_prices\"], errors=\"coerce\")\n",
    "final_df.dropna(subset=[\"sqm\", \"current_prices\"], inplace=True)\n",
    "final_df[\"sqm\"] = final_df[\"sqm\"].replace({'': None}).astype(float).fillna(0).astype(int)"
   ]
  },
  {
   "cell_type": "code",
   "execution_count": 16,
   "id": "7730acd4-edfb-40ec-bced-ad5ba5b03e42",
   "metadata": {},
   "outputs": [],
   "source": [
    "def convert_bedrooms_bathrooms(value):\n",
    "    if isinstance(value, str) and \"more than\" in value:\n",
    "        number = int(value.split()[-1])\n",
    "        return number + 1 \n",
    "    return int(value) \n",
    "\n",
    "# Apply the function\n",
    "final_df[\"bedrooms\"] = final_df[\"bedrooms\"].apply(convert_bedrooms_bathrooms)\n",
    "final_df[\"bathrooms\"] = final_df[\"bathrooms\"].apply(convert_bedrooms_bathrooms)"
   ]
  },
  {
   "cell_type": "code",
   "execution_count": 18,
   "id": "05cc51fb-4643-48c4-9c3e-7cc60e320b59",
   "metadata": {},
   "outputs": [
    {
     "name": "stdout",
     "output_type": "stream",
     "text": [
      "<class 'pandas.core.frame.DataFrame'>\n",
      "Index: 23548 entries, 0 to 23548\n",
      "Data columns (total 14 columns):\n",
      " #   Column               Non-Null Count  Dtype  \n",
      "---  ------               --------------  -----  \n",
      " 0   title                23548 non-null  object \n",
      " 1   price                23548 non-null  object \n",
      " 2   location             23548 non-null  object \n",
      " 3   sqm                  23548 non-null  int64  \n",
      " 4   bedrooms             23548 non-null  int64  \n",
      " 5   furnishing           23548 non-null  object \n",
      " 6   bathrooms            23548 non-null  int64  \n",
      " 7   description          23548 non-null  object \n",
      " 8   id                   23548 non-null  object \n",
      " 9   status               23548 non-null  object \n",
      " 10  missing_description  23548 non-null  int64  \n",
      " 11  missing_title        23548 non-null  int64  \n",
      " 12  missing_location     23548 non-null  int64  \n",
      " 13  current_prices       23548 non-null  float64\n",
      "dtypes: float64(1), int64(6), object(7)\n",
      "memory usage: 2.7+ MB\n"
     ]
    }
   ],
   "source": [
    "final_df.info()"
   ]
  },
  {
   "cell_type": "code",
   "execution_count": 20,
   "id": "81671432-0e01-4985-a4a3-efa1d3949e2a",
   "metadata": {},
   "outputs": [
    {
     "data": {
      "image/png": "[encoded data removed]",
      "text/plain": [
       "<Figure size 1000x600 with 2 Axes>"
      ]
     },
     "metadata": {},
     "output_type": "display_data"
    }
   ],
   "source": [
    "column_of_interest = ['sqm', 'bedrooms', 'bathrooms', 'current_prices']\n",
    "\n",
    "correlation_matrix = final_df[column_of_interest].corr(method = 'spearman')\n",
    "\n",
    "sns.set_theme(style='white')\n",
    "plt.figure(figsize=(10, 6))\n",
    "heatmap = sns.heatmap(correlation_matrix, annot=True, fmt=\".2f\", cmap=\"coolwarm\", cbar_kws={\"label\": \"Spearman correlation\"})\n",
    "heatmap.set_title('Correlation heatmap')\n",
    "plt.show()"
   ]
  },
  {
   "cell_type": "code",
   "execution_count": 40,
   "id": "29ba0218-c123-46a6-81eb-a30663681fae",
   "metadata": {},
   "outputs": [],
   "source": [
    "def clean_text(value):\n",
    "    # Convert to string in case input is not a string\n",
    "    value = str(value)\n",
    "\n",
    "    # Remove newline characters and \"...\"\n",
    "    value = value.replace(\"\\n\", \" \").replace(\"...\", \"\")\n",
    "\n",
    "    # Remove all non-alphanumeric characters (keep only letters and numbers)\n",
    "    value = re.sub(r\"[^a-zA-Z0-9\\s]\", \"\", value)\n",
    "\n",
    "    # Remove extra spaces\n",
    "    return \" \".join(value.split())\n",
    "\n",
    "final_df[\"description\"] = final_df[\"description\"].apply(clean_text)\n"
   ]
  },
  {
   "cell_type": "code",
   "execution_count": 42,
   "id": "c40fb824-e17e-412a-b7e1-1d128a8758d7",
   "metadata": {},
   "outputs": [],
   "source": [
    "final_df['words_in_description'] = final_df['description'].str.split().str.len()"
   ]
  },
  {
   "cell_type": "code",
   "execution_count": 44,
   "id": "15c045ff-a18e-4c5e-bd23-68e1c62a13df",
   "metadata": {},
   "outputs": [
    {
     "data": {
      "text/plain": [
       "0        Refundable Caution Fee applies\n",
       "12                 2 bedroom jahi abuja\n",
       "340                2 bedroom jahi abuja\n",
       "472                Banana island Luxury\n",
       "604                Sophisticated enough\n",
       "                      ...              \n",
       "22645              3 bedroom smart home\n",
       "22942          Wuye 3 bedroom apartment\n",
       "23322                       TO LETLEASE\n",
       "23426          Wuye 3 bedroom apartment\n",
       "23522      Behind Lagos Business School\n",
       "Name: description, Length: 164, dtype: object"
      ]
     },
     "execution_count": 44,
     "metadata": {},
     "output_type": "execute_result"
    }
   ],
   "source": [
    "final_df.loc[final_df['words_in_description'].between(1,4), 'description']"
   ]
  },
  {
   "cell_type": "code",
   "execution_count": 48,
   "id": "25659791-d9a9-4ad2-a7c3-186db5edba32",
   "metadata": {},
   "outputs": [
    {
     "data": {
      "text/plain": [
       "1        3 bedroom Terrace duplex for sale at NAF Valle...\n",
       "2                     One bedroom bedroom apartment to let\n",
       "3        pretty decent 4 bed semidetached duplex with b...\n",
       "4        To let Spacious room upstairs in a shared apar...\n",
       "5                   Affordable Studio apartment at Asokoro\n",
       "                               ...                        \n",
       "23544    A decent 3 bedroom flat with 2 toilet and 2 ba...\n",
       "23545    Well maintained 4bedroom semi detach duplex to...\n",
       "23546    It is in a environment suitable for mixed deve...\n",
       "23547    Asokoro extension hills by sir pauls propertie...\n",
       "23548    This land is more than 10plots its located at ...\n",
       "Name: description, Length: 23380, dtype: object"
      ]
     },
     "execution_count": 48,
     "metadata": {},
     "output_type": "execute_result"
    }
   ],
   "source": [
    "final_df.loc[final_df['words_in_description'].between(5,24), 'description']"
   ]
  },
  {
   "cell_type": "code",
   "execution_count": 52,
   "id": "5770710f-d5cc-41da-b9fd-fe260359fda4",
   "metadata": {},
   "outputs": [],
   "source": [
    "final_df['description_title_location'] = (\n",
    "    np.where(\n",
    "        final_df['description'].isna(), final_df['title'],\n",
    "        final_df[['description', 'title', 'location']].astype(str).agg(\": \".join, axis=1)\n",
    "    )\n",
    ")"
   ]
  },
  {
   "cell_type": "code",
   "execution_count": 74,
   "id": "3ab0130e-62ca-445f-bdfa-91f39ce8e20c",
   "metadata": {},
   "outputs": [],
   "source": [
    "final_df['tagged_description'] = final_df[['id','description_title_location']].astype(str).agg(\" \".join, axis=1)"
   ]
  },
  {
   "cell_type": "code",
   "execution_count": 76,
   "id": "5cd640b4-eeb7-4367-b4fe-b903032d8bab",
   "metadata": {},
   "outputs": [],
   "source": [
    "(final_df.drop(['missing_description', 'missing_title', 'missing_location', 'words_in_description'], axis=1).to_csv('house_cleaned.csv', index=False))"
   ]
  },
  {
   "cell_type": "code",
   "execution_count": null,
   "id": "4a70b7e9-c0ea-4337-9ea8-b2ef6363a773",
   "metadata": {},
   "outputs": [],
   "source": []
  }
 ],
 "metadata": {
  "kernelspec": {
   "display_name": "Python 3 (ipykernel)",
   "language": "python",
   "name": "python3"
  },
  "language_info": {
   "codemirror_mode": {
    "name": "ipython",
    "version": 3
   },
   "file_extension": ".py",
   "mimetype": "text/x-python",
   "name": "python",
   "nbconvert_exporter": "python",
   "pygments_lexer": "ipython3",
   "version": "3.11.7"
  }
 },
 "nbformat": 4,
 "nbformat_minor": 5
}
